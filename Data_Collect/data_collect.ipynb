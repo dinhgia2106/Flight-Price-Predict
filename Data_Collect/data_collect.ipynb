{
 "cells": [
  {
   "cell_type": "code",
   "execution_count": 40,
   "metadata": {},
   "outputs": [],
   "source": [
    "import requests\n",
    "import pandas as pd\n",
    "import time\n",
    "from tqdm import tqdm\n",
    "from datetime import datetime, timedelta\n",
    "import sys\n",
    "from IPython.display import clear_output"
   ]
  },
  {
   "cell_type": "code",
   "execution_count": 1,
   "metadata": {},
   "outputs": [],
   "source": [
    "import os\n",
    "from dotenv import load_dotenv\n",
    "\n",
    "load_dotenv()\n",
    "\n",
    "API_KEY = os.getenv('API_KEY')\n",
    "API_SECRET = os.getenv('API_SECRET')\n"
   ]
  },
  {
   "cell_type": "code",
   "execution_count": null,
   "metadata": {},
   "outputs": [],
   "source": [
    "def get_access_token():\n",
    "    url = 'https://test.api.amadeus.com/v1/security/oauth2/token'\n",
    "    data = {\n",
    "        'grant_type': 'client_credentials',\n",
    "        'client_id': API_KEY,\n",
    "        'client_secret': API_SECRET\n",
    "    }\n",
    "    response = requests.post(url, data=data)\n",
    "    response.raise_for_status()\n",
    "    return response.json()['access_token']\n"
   ]
  },
  {
   "cell_type": "code",
   "execution_count": null,
   "metadata": {},
   "outputs": [],
   "source": [
    "def get_flight_offers(origin, destination, departure_date, access_token):\n",
    "    url = 'https://test.api.amadeus.com/v2/shopping/flight-offers'\n",
    "    headers = {'Authorization': f'Bearer {access_token}'}\n",
    "    params = {\n",
    "        'originLocationCode': origin,\n",
    "        'destinationLocationCode': destination,\n",
    "        'departureDate': departure_date,\n",
    "        'adults': '1',\n",
    "        'nonStop': 'false',\n",
    "        'currencyCode': 'VND',\n",
    "        'max': '250'\n",
    "    }\n",
    "    response = requests.get(url, headers=headers, params=params)\n",
    "    response.raise_for_status()\n",
    "    return response.json()\n"
   ]
  },
  {
   "cell_type": "code",
   "execution_count": null,
   "metadata": {},
   "outputs": [],
   "source": [
    "def process_data(data):\n",
    "    flight_offers = data.get('data', [])\n",
    "    records = {}\n",
    "    for offer in flight_offers:\n",
    "        price = offer.get('price', {}).get('total')\n",
    "        itineraries = offer.get('itineraries', [])\n",
    "        for itinerary in itineraries:\n",
    "            segments = itinerary.get('segments', [])\n",
    "            for segment in segments:\n",
    "                departure = segment.get('departure', {})\n",
    "                arrival = segment.get('arrival', {})\n",
    "                carrierCode = segment.get('carrierCode')\n",
    "                flightNumber = segment.get('number')\n",
    "                duration = segment.get('duration')\n",
    "                unique_id = (\n",
    "                    departure.get('iataCode'),\n",
    "                    departure.get('at'),\n",
    "                    arrival.get('iataCode'),\n",
    "                    arrival.get('at'),\n",
    "                    carrierCode,\n",
    "                    flightNumber\n",
    "                )\n",
    "                # Chỉ thêm chuyến bay nếu chưa tồn tại\n",
    "                if unique_id not in records:\n",
    "                    records[unique_id] = {\n",
    "                        'Departure Airport': departure.get('iataCode'),\n",
    "                        'Departure Time': departure.get('at'),\n",
    "                        'Arrival Airport': arrival.get('iataCode'),\n",
    "                        'Arrival Time': arrival.get('at'),\n",
    "                        'Carrier Code': carrierCode,\n",
    "                        'Flight Number': flightNumber,\n",
    "                        'Price (VND)': price,\n",
    "                        'Duration': duration,\n",
    "                    }\n",
    "    return pd.DataFrame.from_dict(records, orient='index')\n"
   ]
  },
  {
   "cell_type": "code",
   "execution_count": 44,
   "metadata": {},
   "outputs": [
    {
     "name": "stderr",
     "output_type": "stream",
     "text": [
      "Đang lấy dữ liệu: 100%|██████████| 90/90 [07:08<00:00,  4.76s/it]"
     ]
    },
    {
     "name": "stdout",
     "output_type": "stream",
     "text": [
      "\n",
      "Hoàn thành!\n"
     ]
    },
    {
     "name": "stderr",
     "output_type": "stream",
     "text": [
      "\n"
     ]
    },
    {
     "data": {
      "text/plain": [
       "13"
      ]
     },
     "execution_count": 44,
     "metadata": {},
     "output_type": "execute_result"
    }
   ],
   "source": [
    "access_token = get_access_token()\n",
    "\n",
    "# Danh sách các sân bay\n",
    "airports = ['SGN', 'HAN', 'DAD', 'HUI', 'CXR', 'VCA', 'HPH', 'VII', 'BMV', 'DLI']\n",
    "\n",
    "tomorrow = datetime.now() + timedelta(days=1)\n",
    "departure_date = tomorrow.strftime('%Y-%m-%d')\n",
    "df = pd.DataFrame()\n",
    "\n",
    "total_pairs = len(airports) * (len(airports) - 1)\n",
    "\n",
    "with tqdm(total=total_pairs, desc='Đang lấy dữ liệu') as pbar:\n",
    "    for origin in airports:\n",
    "        for destination in airports:\n",
    "            if origin != destination:\n",
    "                sys.stdout.write(f\"\\rLấy chuyến bay từ {origin} đến {destination}\")\n",
    "                sys.stdout.flush()\n",
    "                \n",
    "                try:\n",
    "                    data = get_flight_offers(origin, destination, departure_date, access_token)\n",
    "                    flights_df = process_data(data)\n",
    "                    df = pd.concat([df, flights_df], ignore_index=True)\n",
    "                    time.sleep(1)  # Nghỉ 1 giây giữa các yêu cầu\n",
    "                except requests.exceptions.HTTPError as http_err:\n",
    "                    sys.stdout.write(f\"\\rLỗi HTTP từ {origin} đến {destination}: {http_err}\\n\")\n",
    "                except Exception as e:\n",
    "                    sys.stdout.write(f\"\\rLỗi từ {origin} đến {destination}: {e}\\n\")\n",
    "                \n",
    "                # Cập nhật thanh tiến trình\n",
    "                clear_output()\n",
    "                pbar.update(1)\n",
    "\n",
    "sys.stdout.write(\"\\nHoàn thành!\\n\")\n",
    "\n",
    "\n"
   ]
  },
  {
   "cell_type": "code",
   "execution_count": 45,
   "metadata": {},
   "outputs": [
    {
     "name": "stdout",
     "output_type": "stream",
     "text": [
      "(1162, 8)\n"
     ]
    },
    {
     "data": {
      "text/html": [
       "<div>\n",
       "<style scoped>\n",
       "    .dataframe tbody tr th:only-of-type {\n",
       "        vertical-align: middle;\n",
       "    }\n",
       "\n",
       "    .dataframe tbody tr th {\n",
       "        vertical-align: top;\n",
       "    }\n",
       "\n",
       "    .dataframe thead th {\n",
       "        text-align: right;\n",
       "    }\n",
       "</style>\n",
       "<table border=\"1\" class=\"dataframe\">\n",
       "  <thead>\n",
       "    <tr style=\"text-align: right;\">\n",
       "      <th></th>\n",
       "      <th>Departure Airport</th>\n",
       "      <th>Departure Time</th>\n",
       "      <th>Arrival Airport</th>\n",
       "      <th>Arrival Time</th>\n",
       "      <th>Carrier Code</th>\n",
       "      <th>Flight Number</th>\n",
       "      <th>Price (VND)</th>\n",
       "      <th>Duration</th>\n",
       "    </tr>\n",
       "  </thead>\n",
       "  <tbody>\n",
       "    <tr>\n",
       "      <th>0</th>\n",
       "      <td>SGN</td>\n",
       "      <td>2024-10-04 22:20:00</td>\n",
       "      <td>HAN</td>\n",
       "      <td>2024-10-05 00:10:00</td>\n",
       "      <td>VJ</td>\n",
       "      <td>176</td>\n",
       "      <td>1538000.00</td>\n",
       "      <td>PT1H50M</td>\n",
       "    </tr>\n",
       "    <tr>\n",
       "      <th>1</th>\n",
       "      <td>SGN</td>\n",
       "      <td>2024-10-04 05:00:00</td>\n",
       "      <td>HAN</td>\n",
       "      <td>2024-10-04 07:10:00</td>\n",
       "      <td>VJ</td>\n",
       "      <td>182</td>\n",
       "      <td>1538000.00</td>\n",
       "      <td>PT2H10M</td>\n",
       "    </tr>\n",
       "    <tr>\n",
       "      <th>2</th>\n",
       "      <td>SGN</td>\n",
       "      <td>2024-10-04 05:25:00</td>\n",
       "      <td>HAN</td>\n",
       "      <td>2024-10-04 07:35:00</td>\n",
       "      <td>VJ</td>\n",
       "      <td>198</td>\n",
       "      <td>1538000.00</td>\n",
       "      <td>PT2H10M</td>\n",
       "    </tr>\n",
       "    <tr>\n",
       "      <th>3</th>\n",
       "      <td>SGN</td>\n",
       "      <td>2024-10-04 06:00:00</td>\n",
       "      <td>HAN</td>\n",
       "      <td>2024-10-04 08:10:00</td>\n",
       "      <td>VJ</td>\n",
       "      <td>120</td>\n",
       "      <td>1538000.00</td>\n",
       "      <td>PT2H10M</td>\n",
       "    </tr>\n",
       "    <tr>\n",
       "      <th>4</th>\n",
       "      <td>SGN</td>\n",
       "      <td>2024-10-04 06:40:00</td>\n",
       "      <td>HAN</td>\n",
       "      <td>2024-10-04 08:50:00</td>\n",
       "      <td>VJ</td>\n",
       "      <td>168</td>\n",
       "      <td>1538000.00</td>\n",
       "      <td>PT2H10M</td>\n",
       "    </tr>\n",
       "  </tbody>\n",
       "</table>\n",
       "</div>"
      ],
      "text/plain": [
       "  Departure Airport      Departure Time Arrival Airport        Arrival Time  \\\n",
       "0               SGN 2024-10-04 22:20:00             HAN 2024-10-05 00:10:00   \n",
       "1               SGN 2024-10-04 05:00:00             HAN 2024-10-04 07:10:00   \n",
       "2               SGN 2024-10-04 05:25:00             HAN 2024-10-04 07:35:00   \n",
       "3               SGN 2024-10-04 06:00:00             HAN 2024-10-04 08:10:00   \n",
       "4               SGN 2024-10-04 06:40:00             HAN 2024-10-04 08:50:00   \n",
       "\n",
       "  Carrier Code Flight Number Price (VND) Duration  \n",
       "0           VJ           176  1538000.00  PT1H50M  \n",
       "1           VJ           182  1538000.00  PT2H10M  \n",
       "2           VJ           198  1538000.00  PT2H10M  \n",
       "3           VJ           120  1538000.00  PT2H10M  \n",
       "4           VJ           168  1538000.00  PT2H10M  "
      ]
     },
     "execution_count": 45,
     "metadata": {},
     "output_type": "execute_result"
    }
   ],
   "source": [
    "# Loại bỏ các bản ghi trùng lặp\n",
    "df.drop_duplicates(subset=[\n",
    "    'Departure Airport', 'Departure Time', 'Arrival Airport', 'Arrival Time',\n",
    "    'Carrier Code', 'Flight Number'], inplace=True)\n",
    "\n",
    "# Chuyển đổi thời gian sang định dạng datetime\n",
    "df['Departure Time'] = pd.to_datetime(df['Departure Time'])\n",
    "df['Arrival Time'] = pd.to_datetime(df['Arrival Time'])\n",
    "\n",
    "# Reset lại index của DataFrame\n",
    "df.reset_index(drop=True, inplace=True)\n",
    "\n",
    "print(df.shape)\n",
    "df.head()\n"
   ]
  },
  {
   "cell_type": "code",
   "execution_count": null,
   "metadata": {},
   "outputs": [],
   "source": [
    "df.to_csv(f'data/{departure_date}_full_data.csv', index=False)"
   ]
  }
 ],
 "metadata": {
  "kernelspec": {
   "display_name": "Python 3",
   "language": "python",
   "name": "python3"
  },
  "language_info": {
   "codemirror_mode": {
    "name": "ipython",
    "version": 3
   },
   "file_extension": ".py",
   "mimetype": "text/x-python",
   "name": "python",
   "nbconvert_exporter": "python",
   "pygments_lexer": "ipython3",
   "version": "3.12.4"
  }
 },
 "nbformat": 4,
 "nbformat_minor": 2
}
